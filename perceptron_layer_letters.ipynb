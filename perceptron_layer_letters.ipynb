{
  "nbformat": 4,
  "nbformat_minor": 0,
  "metadata": {
    "colab": {
      "provenance": []
    },
    "kernelspec": {
      "name": "python3",
      "display_name": "Python 3"
    },
    "language_info": {
      "name": "python"
    }
  },
  "cells": [
    {
      "cell_type": "markdown",
      "source": [
        "---\n",
        "---\n",
        "\n",
        "Importowanie bibliotek.\n",
        "\n",
        "---\n",
        "---"
      ],
      "metadata": {
        "id": "6EF3BRu70nXu"
      }
    },
    {
      "cell_type": "code",
      "source": [
        "import os\n",
        "import io\n",
        "import string\n",
        "import pandas as pd\n",
        "import numpy as np\n",
        "from sklearn import linear_model\n",
        "# %matplotlib inline\n",
        "import matplotlib.pyplot as plt\n",
        "from google.colab import files"
      ],
      "metadata": {
        "id": "JY5sBgbcFbC5"
      },
      "execution_count": 1,
      "outputs": []
    },
    {
      "cell_type": "markdown",
      "source": [
        "---\n",
        "---\n",
        "\n",
        "Własnoręcznie zaimplmentowana klasa Perceptron.\n",
        "\n",
        "---\n",
        "---"
      ],
      "metadata": {
        "id": "quMjXneE9fu3"
      }
    },
    {
      "cell_type": "code",
      "source": [
        "class Perceptron(object):\n",
        "  def __init__(self, eta=0.01, n_iter=50, random_state=1):\n",
        "    self.eta = eta\n",
        "    self.n_iter = n_iter\n",
        "    self.random_state = random_state\n",
        "\n",
        "  def fit(self, X, y):\n",
        "    rgen = np.random.RandomState(self.random_state)\n",
        "    self.w_ = rgen.normal(loc=0.0, scale=0.01, size=1 + X.shape[1])\n",
        "    self.errors_ = []\n",
        "    for _ in range(self.n_iter):\n",
        "      errors = 0\n",
        "      for xi, target in zip(X, y):\n",
        "        update = self.eta * (target - self.predict(xi))\n",
        "        self.w_[1:] += update * xi\n",
        "        self.w_[0] += update\n",
        "        errors += int(update != 0.0)\n",
        "      self.errors_.append(errors)\n",
        "    return self\n",
        "\n",
        "  def net_input(self, X):\n",
        "    return np.dot(X, self.w_[1:]) + self.w_[0]\n",
        "\n",
        "  def predict(self, X):\n",
        "    return np.where(self.net_input(X) >= 0.0, 1, -1)"
      ],
      "metadata": {
        "id": "JUhd08p65zTQ"
      },
      "execution_count": 2,
      "outputs": []
    },
    {
      "cell_type": "markdown",
      "source": [
        "---\n",
        "---\n",
        "\n",
        "Kod klasy SLP (Single Layer Perceptron).\n",
        "\n",
        "---\n",
        "---\n",
        "\n",
        "> `def __init__(self, eta=0.05, n_iter=10, random_state=1)` Konstruktor klasy SLP.\n",
        "\n",
        "**Przyjmuje:**\n",
        "\n",
        "*   `eta` - stała zmienna przez którą update'y we wszystkich Perceptronach są pomnożone\n",
        "\n",
        "*   `n_iter` - stała zmienna oznaczająca liczbę iteracji podczas których wagi Perceptronów są dostosywane w metodzie `fit()`\n",
        "\n",
        "*   `random_state` - stała zmienna używana do losowej generacji początkowych wag w Perceptronach\n",
        "\n",
        "**Zwraca:**\n",
        "\n",
        "*   Jest konstruktorem klasy SLP.\n",
        "\n",
        "---\n",
        "---\n",
        "\n",
        "> `def fit(self, X, y)` Tworzy wewnętrznie Perceptron dla każdej litery i je trenuje na danych.\n",
        "\n",
        "**Przyjmuje:**\n",
        "\n",
        "*   `X` - Zbiór przykładowych danych na których uczone są wszystkie Perceptrony\n",
        "\n",
        "*   `y` - Zbiór poprawnych odpowiedzi do przykładowych danych\n",
        "\n",
        "**Zwraca:**\n",
        "\n",
        "*   Nic, jedynie uczy perceptrony.\n",
        "\n",
        "---\n",
        "---\n",
        "\n",
        "> `def predict(self, X):` Zwraca przewidywane odpowiedzi Perceptronów dla danego zbioru danych.\n",
        "\n",
        "**Przyjmuje:**\n",
        "\n",
        "*   `X` - Zbiór danych dla których ma podać przewidywane odpowiedzi\n",
        "\n",
        "**Zwraca:**\n",
        "\n",
        "*   2-wymiarową tablicę przewidywanych odpowiedzi\n",
        "\n",
        "---\n",
        "---\n",
        "\n",
        "> `def misclassified(self, X, y)` Porównuje przewidywane odpowiedzi dla danego zbioru danych do poprawynch odpowiedzi.\n",
        "\n",
        "**Przyjmuje:**\n",
        "\n",
        "*   `X` - Zbiór danych dla których ma sprawdzić trafność przewidywanych odpowiedzi\n",
        "\n",
        "*   `y` - Zbiór oczekiwanych odpowiedzi\n",
        "\n",
        "**Zwraca:**\n",
        "\n",
        "*   `Intger` oznaczający ilość błędnych przewidywań\n",
        "\n",
        "---\n",
        "---\n",
        "\n",
        "> `def show(self, X):` Rysuje podane dane w formie wykresów.\n",
        "\n",
        "**Przyjmuje:**\n",
        "\n",
        "*   `X` - Zbiór danych które chcemy wydrukować\n",
        "\n",
        "**Zwraca:**\n",
        "\n",
        "*   Nic nie zwraca, natomiast rysuje podane dane w formie 10-ciu wykresów złożony z czarnych i białych pól o rozmiarach 5x7\n",
        "\n",
        "---\n",
        "---"
      ],
      "metadata": {
        "id": "8aTZzWYC90b1"
      }
    },
    {
      "cell_type": "code",
      "execution_count": 3,
      "metadata": {
        "id": "7QMCsiRn_bUT"
      },
      "outputs": [],
      "source": [
        "class SLP:\n",
        "  def __init__(self, eta=0.05, n_iter=10, random_state=1):\n",
        "    self.eta = eta\n",
        "    self.n_iter = n_iter\n",
        "    self.r_state = random_state\n",
        "    self.perceptrony = []\n",
        "    self.errors_ = []\n",
        "\n",
        "  def fit(self, X, y):\n",
        "    self.perceptrony = []\n",
        "    [ self.perceptrony.append(Perceptron(eta=self.eta, n_iter=self.n_iter,\n",
        "                                        random_state=self.r_state))\n",
        "    for i in range(len(y[0])) ]\n",
        "    [ self.perceptrony[i].fit(X, y[i])\n",
        "    for i in range(len(y[0])) ]\n",
        "\n",
        "    [ self.errors_.append(self.perceptrony[i].errors_)\n",
        "    for i in range(len(y[0])) ]\n",
        "    self.errors_ = [ sum([self.errors_[i][j] for i in range(len(y[0]))])\n",
        "    for j in range(len(y[0])) ]\n",
        "\n",
        "  def predict(self, X):\n",
        "    out = []\n",
        "    for i in range(len(self.perceptrony)):\n",
        "      out.append(self.perceptrony[i].predict(X))\n",
        "    out = np.array(out)\n",
        "    out = out.T\n",
        "    return out\n",
        "\n",
        "  def misclassified(self, X, y):\n",
        "    predicted = self.predict(X)\n",
        "    misses = 0\n",
        "    for i in range(len(predicted)):\n",
        "      for j in range(len(predicted[i])):\n",
        "        if predicted[i][j] != y[i][j]:\n",
        "          misses += 1\n",
        "    return misses\n",
        "\n",
        "  def show(self, X):\n",
        "    fig, axis = plt.subplots(nrows=2, ncols=5)\n",
        "    for i in range(len(X)):\n",
        "      character = np.reshape(X[i], (7,5))\n",
        "      axis[i//5][i%5].imshow(character, cmap='binary')\n",
        "    fig.subplots_adjust(wspace=1, hspace=-0.5)\n",
        "    plt.show()"
      ]
    },
    {
      "cell_type": "markdown",
      "source": [
        "---\n",
        "---\n",
        "\n",
        "Utworzono obiekt klasy SLP.\n",
        "\n",
        "---\n",
        "---"
      ],
      "metadata": {
        "id": "s3pitMAsItfD"
      }
    },
    {
      "cell_type": "code",
      "source": [
        "net = SLP()"
      ],
      "metadata": {
        "id": "n3FSU16NIt3r"
      },
      "execution_count": 4,
      "outputs": []
    },
    {
      "cell_type": "markdown",
      "source": [
        "---\n",
        "---\n",
        "\n",
        "Pobrano plik `letters.data` do colaba, następnie go sparsowano do zbiorów X i y zawierających dane o indeksach:\n",
        "\n",
        "1, 4, 5, 8, 11, 12, 18, 22, 23, 25\n",
        "\n",
        "---\n",
        "---"
      ],
      "metadata": {
        "id": "osq9rV9JJBoh"
      }
    },
    {
      "cell_type": "code",
      "source": [
        "uploaded = files.upload()\n",
        "df = pd.read_csv(io.BytesIO(uploaded['letters.data']), header=None)\n",
        "\n",
        "indexy = [1, 4, 5, 8, 11, 12, 18, 22, 23, 25]\n",
        "# print([string.ascii_uppercase[i] for i in indexy])  # <- litery które mam\n",
        "\n",
        "X = df.iloc[indexy, 0:35].values\n",
        "X = np.array(X)\n",
        "\n",
        "y_tmp = df.iloc[indexy, 35:61].values\n",
        "y = []\n",
        "for line in y_tmp:\n",
        "  arr = []\n",
        "  for ind in range(len(line)):\n",
        "    for i in indexy:\n",
        "      if ind == i:\n",
        "        arr.append(line[ind])\n",
        "  y.append(arr)\n",
        "y = np.array(y)"
      ],
      "metadata": {
        "id": "aSgEprQTJb_7",
        "colab": {
          "base_uri": "https://localhost:8080/",
          "height": 73
        },
        "outputId": "732b057f-9935-4c56-afc0-a81652ce2ae5"
      },
      "execution_count": 5,
      "outputs": [
        {
          "output_type": "display_data",
          "data": {
            "text/plain": [
              "<IPython.core.display.HTML object>"
            ],
            "text/html": [
              "\n",
              "     <input type=\"file\" id=\"files-7ae18303-6e99-41dc-833a-9fd83ef8c8d6\" name=\"files[]\" multiple disabled\n",
              "        style=\"border:none\" />\n",
              "     <output id=\"result-7ae18303-6e99-41dc-833a-9fd83ef8c8d6\">\n",
              "      Upload widget is only available when the cell has been executed in the\n",
              "      current browser session. Please rerun this cell to enable.\n",
              "      </output>\n",
              "      <script>// Copyright 2017 Google LLC\n",
              "//\n",
              "// Licensed under the Apache License, Version 2.0 (the \"License\");\n",
              "// you may not use this file except in compliance with the License.\n",
              "// You may obtain a copy of the License at\n",
              "//\n",
              "//      http://www.apache.org/licenses/LICENSE-2.0\n",
              "//\n",
              "// Unless required by applicable law or agreed to in writing, software\n",
              "// distributed under the License is distributed on an \"AS IS\" BASIS,\n",
              "// WITHOUT WARRANTIES OR CONDITIONS OF ANY KIND, either express or implied.\n",
              "// See the License for the specific language governing permissions and\n",
              "// limitations under the License.\n",
              "\n",
              "/**\n",
              " * @fileoverview Helpers for google.colab Python module.\n",
              " */\n",
              "(function(scope) {\n",
              "function span(text, styleAttributes = {}) {\n",
              "  const element = document.createElement('span');\n",
              "  element.textContent = text;\n",
              "  for (const key of Object.keys(styleAttributes)) {\n",
              "    element.style[key] = styleAttributes[key];\n",
              "  }\n",
              "  return element;\n",
              "}\n",
              "\n",
              "// Max number of bytes which will be uploaded at a time.\n",
              "const MAX_PAYLOAD_SIZE = 100 * 1024;\n",
              "\n",
              "function _uploadFiles(inputId, outputId) {\n",
              "  const steps = uploadFilesStep(inputId, outputId);\n",
              "  const outputElement = document.getElementById(outputId);\n",
              "  // Cache steps on the outputElement to make it available for the next call\n",
              "  // to uploadFilesContinue from Python.\n",
              "  outputElement.steps = steps;\n",
              "\n",
              "  return _uploadFilesContinue(outputId);\n",
              "}\n",
              "\n",
              "// This is roughly an async generator (not supported in the browser yet),\n",
              "// where there are multiple asynchronous steps and the Python side is going\n",
              "// to poll for completion of each step.\n",
              "// This uses a Promise to block the python side on completion of each step,\n",
              "// then passes the result of the previous step as the input to the next step.\n",
              "function _uploadFilesContinue(outputId) {\n",
              "  const outputElement = document.getElementById(outputId);\n",
              "  const steps = outputElement.steps;\n",
              "\n",
              "  const next = steps.next(outputElement.lastPromiseValue);\n",
              "  return Promise.resolve(next.value.promise).then((value) => {\n",
              "    // Cache the last promise value to make it available to the next\n",
              "    // step of the generator.\n",
              "    outputElement.lastPromiseValue = value;\n",
              "    return next.value.response;\n",
              "  });\n",
              "}\n",
              "\n",
              "/**\n",
              " * Generator function which is called between each async step of the upload\n",
              " * process.\n",
              " * @param {string} inputId Element ID of the input file picker element.\n",
              " * @param {string} outputId Element ID of the output display.\n",
              " * @return {!Iterable<!Object>} Iterable of next steps.\n",
              " */\n",
              "function* uploadFilesStep(inputId, outputId) {\n",
              "  const inputElement = document.getElementById(inputId);\n",
              "  inputElement.disabled = false;\n",
              "\n",
              "  const outputElement = document.getElementById(outputId);\n",
              "  outputElement.innerHTML = '';\n",
              "\n",
              "  const pickedPromise = new Promise((resolve) => {\n",
              "    inputElement.addEventListener('change', (e) => {\n",
              "      resolve(e.target.files);\n",
              "    });\n",
              "  });\n",
              "\n",
              "  const cancel = document.createElement('button');\n",
              "  inputElement.parentElement.appendChild(cancel);\n",
              "  cancel.textContent = 'Cancel upload';\n",
              "  const cancelPromise = new Promise((resolve) => {\n",
              "    cancel.onclick = () => {\n",
              "      resolve(null);\n",
              "    };\n",
              "  });\n",
              "\n",
              "  // Wait for the user to pick the files.\n",
              "  const files = yield {\n",
              "    promise: Promise.race([pickedPromise, cancelPromise]),\n",
              "    response: {\n",
              "      action: 'starting',\n",
              "    }\n",
              "  };\n",
              "\n",
              "  cancel.remove();\n",
              "\n",
              "  // Disable the input element since further picks are not allowed.\n",
              "  inputElement.disabled = true;\n",
              "\n",
              "  if (!files) {\n",
              "    return {\n",
              "      response: {\n",
              "        action: 'complete',\n",
              "      }\n",
              "    };\n",
              "  }\n",
              "\n",
              "  for (const file of files) {\n",
              "    const li = document.createElement('li');\n",
              "    li.append(span(file.name, {fontWeight: 'bold'}));\n",
              "    li.append(span(\n",
              "        `(${file.type || 'n/a'}) - ${file.size} bytes, ` +\n",
              "        `last modified: ${\n",
              "            file.lastModifiedDate ? file.lastModifiedDate.toLocaleDateString() :\n",
              "                                    'n/a'} - `));\n",
              "    const percent = span('0% done');\n",
              "    li.appendChild(percent);\n",
              "\n",
              "    outputElement.appendChild(li);\n",
              "\n",
              "    const fileDataPromise = new Promise((resolve) => {\n",
              "      const reader = new FileReader();\n",
              "      reader.onload = (e) => {\n",
              "        resolve(e.target.result);\n",
              "      };\n",
              "      reader.readAsArrayBuffer(file);\n",
              "    });\n",
              "    // Wait for the data to be ready.\n",
              "    let fileData = yield {\n",
              "      promise: fileDataPromise,\n",
              "      response: {\n",
              "        action: 'continue',\n",
              "      }\n",
              "    };\n",
              "\n",
              "    // Use a chunked sending to avoid message size limits. See b/62115660.\n",
              "    let position = 0;\n",
              "    do {\n",
              "      const length = Math.min(fileData.byteLength - position, MAX_PAYLOAD_SIZE);\n",
              "      const chunk = new Uint8Array(fileData, position, length);\n",
              "      position += length;\n",
              "\n",
              "      const base64 = btoa(String.fromCharCode.apply(null, chunk));\n",
              "      yield {\n",
              "        response: {\n",
              "          action: 'append',\n",
              "          file: file.name,\n",
              "          data: base64,\n",
              "        },\n",
              "      };\n",
              "\n",
              "      let percentDone = fileData.byteLength === 0 ?\n",
              "          100 :\n",
              "          Math.round((position / fileData.byteLength) * 100);\n",
              "      percent.textContent = `${percentDone}% done`;\n",
              "\n",
              "    } while (position < fileData.byteLength);\n",
              "  }\n",
              "\n",
              "  // All done.\n",
              "  yield {\n",
              "    response: {\n",
              "      action: 'complete',\n",
              "    }\n",
              "  };\n",
              "}\n",
              "\n",
              "scope.google = scope.google || {};\n",
              "scope.google.colab = scope.google.colab || {};\n",
              "scope.google.colab._files = {\n",
              "  _uploadFiles,\n",
              "  _uploadFilesContinue,\n",
              "};\n",
              "})(self);\n",
              "</script> "
            ]
          },
          "metadata": {}
        },
        {
          "output_type": "stream",
          "name": "stdout",
          "text": [
            "Saving letters.data to letters.data\n"
          ]
        }
      ]
    },
    {
      "cell_type": "markdown",
      "source": [
        "---\n",
        "---\n",
        "\n",
        "Wyświetlenie graficzne danych z indywidualnego zbioru X.\n",
        "\n",
        "---\n",
        "---"
      ],
      "metadata": {
        "id": "Zoy31doNKLcr"
      }
    },
    {
      "cell_type": "code",
      "source": [
        "net.show(X)"
      ],
      "metadata": {
        "colab": {
          "base_uri": "https://localhost:8080/",
          "height": 261
        },
        "id": "UTYUussNKmph",
        "outputId": "24b85f78-ec66-403a-8a71-4e498dafbd92"
      },
      "execution_count": 6,
      "outputs": [
        {
          "output_type": "display_data",
          "data": {
            "text/plain": [
              "<Figure size 640x480 with 10 Axes>"
            ],
            "image/png": "[encoded data removed]"
          },
          "metadata": {}
        }
      ]
    },
    {
      "cell_type": "markdown",
      "source": [
        "---\n",
        "---\n",
        "\n",
        "Przeprowadzenie ucznia modelu za pomocą wywołania `fit(X, y)`.\n",
        "\n",
        "---\n",
        "---"
      ],
      "metadata": {
        "id": "_w14ivZ7Kruc"
      }
    },
    {
      "cell_type": "code",
      "source": [
        "net.fit(X, y)"
      ],
      "metadata": {
        "id": "SqXcFcm-K4uE"
      },
      "execution_count": 7,
      "outputs": []
    },
    {
      "cell_type": "markdown",
      "source": [
        "---\n",
        "---\n",
        "\n",
        "Wyświetlenie wyniku `predict()` na zbiorz uczącym.\n",
        "\n",
        "---\n",
        "---"
      ],
      "metadata": {
        "id": "Bf4FksgFLKLs"
      }
    },
    {
      "cell_type": "code",
      "source": [
        "print(net.predict(X))"
      ],
      "metadata": {
        "colab": {
          "base_uri": "https://localhost:8080/"
        },
        "id": "fQ_ymQEXLTdk",
        "outputId": "0fa6c1a4-0fd7-47b1-cc69-8c35cb83ffae"
      },
      "execution_count": 8,
      "outputs": [
        {
          "output_type": "stream",
          "name": "stdout",
          "text": [
            "[[ 1 -1 -1 -1 -1 -1 -1 -1 -1 -1]\n",
            " [-1  1 -1 -1 -1 -1 -1 -1 -1 -1]\n",
            " [-1 -1  1 -1 -1 -1 -1 -1 -1 -1]\n",
            " [-1 -1 -1  1 -1 -1 -1 -1 -1 -1]\n",
            " [-1 -1 -1 -1  1 -1 -1 -1 -1 -1]\n",
            " [-1 -1 -1 -1 -1  1 -1 -1 -1 -1]\n",
            " [-1 -1 -1 -1 -1 -1  1 -1 -1 -1]\n",
            " [-1 -1 -1 -1 -1 -1 -1  1 -1 -1]\n",
            " [-1 -1 -1 -1 -1 -1 -1 -1  1 -1]\n",
            " [-1 -1 -1 -1 -1 -1 -1 -1 -1  1]]\n"
          ]
        }
      ]
    },
    {
      "cell_type": "markdown",
      "source": [
        "---\n",
        "---\n",
        "\n",
        "Wyświetlenie zawartości `errors_`.\n",
        "\n",
        "---\n",
        "---"
      ],
      "metadata": {
        "id": "ecx6eJzFMA98"
      }
    },
    {
      "cell_type": "code",
      "source": [
        "print(net.errors_)"
      ],
      "metadata": {
        "colab": {
          "base_uri": "https://localhost:8080/"
        },
        "id": "yhKXekHTNt5L",
        "outputId": "c0202df4-04e7-4a35-aa71-b84e45efb97b"
      },
      "execution_count": 9,
      "outputs": [
        {
          "output_type": "stream",
          "name": "stdout",
          "text": [
            "[33, 16, 3, 2, 1, 0, 0, 0, 0, 0]\n"
          ]
        }
      ]
    },
    {
      "cell_type": "markdown",
      "source": [
        "---\n",
        "---\n",
        "\n",
        "Wyświetlenie wyniku `misclassified()` na zbiorze uczącym.\n",
        "\n",
        "---\n",
        "---"
      ],
      "metadata": {
        "id": "WeggfogqPrbT"
      }
    },
    {
      "cell_type": "code",
      "source": [
        "print(net.misclassified(X, y))"
      ],
      "metadata": {
        "colab": {
          "base_uri": "https://localhost:8080/"
        },
        "id": "W3YbRMgrP1gQ",
        "outputId": "51d1f77c-700e-4908-e13e-3269a608ef89"
      },
      "execution_count": 10,
      "outputs": [
        {
          "output_type": "stream",
          "name": "stdout",
          "text": [
            "0\n"
          ]
        }
      ]
    },
    {
      "cell_type": "markdown",
      "source": [
        "---\n",
        "---\n",
        "\n",
        "Utworzenie uszkodzonych w 5%, 15% i 40% zbiorów danych ze zbioru X za pomocą funkcji `damage()`.\n",
        "\n",
        "---\n",
        "---"
      ],
      "metadata": {
        "id": "-gvI6vH9P1Hb"
      }
    },
    {
      "cell_type": "code",
      "source": [
        "def damage(X, percent, seed=1):\n",
        "  rgen = np.random.RandomState(seed)\n",
        "  result = np.array(X)\n",
        "  count = int(X.shape[1]*percent/100)\n",
        "  for indeks_example in range(len(X)):\n",
        "    order = np.sort(rgen.choice(X.shape[1], count, replace=False))\n",
        "    for indeks_pixel in order:\n",
        "      result[indeks_example][indeks_pixel]*=-1\n",
        "  return result\n",
        "\n",
        "damaged5 = damage(X, 5)\n",
        "damaged15 = damage(X, 15)\n",
        "damaged40 = damage(X, 40)"
      ],
      "metadata": {
        "id": "5RXhDReEQVi7"
      },
      "execution_count": 11,
      "outputs": []
    },
    {
      "cell_type": "markdown",
      "source": [
        "---\n",
        "---\n",
        "\n",
        "Wyświetlenie graficznie danych z każdego uszkodzonego zbioru oraz wyników predict i misclassified.\n",
        "\n",
        "---\n",
        "---"
      ],
      "metadata": {
        "id": "_4-naEElQVCL"
      }
    },
    {
      "cell_type": "code",
      "source": [
        "net.show(damaged5)\n",
        "print(net.predict(damaged5))\n",
        "print(net.misclassified(damaged5, y))\n",
        "\n",
        "net.show(damaged15)\n",
        "print(net.predict(damaged15))\n",
        "print(net.misclassified(damaged15, y))\n",
        "\n",
        "net.show(damaged40)\n",
        "print(net.predict(damaged40))\n",
        "print(net.misclassified(damaged40, y))"
      ],
      "metadata": {
        "colab": {
          "base_uri": "https://localhost:8080/",
          "height": 1000
        },
        "id": "gQoZpKRl7CBV",
        "outputId": "c9b8f684-be08-4d2a-93ba-5ecef2e42925"
      },
      "execution_count": 12,
      "outputs": [
        {
          "output_type": "display_data",
          "data": {
            "text/plain": [
              "<Figure size 640x480 with 10 Axes>"
            ],
            "image/png": "[encoded data removed]"
          },
          "metadata": {}
        },
        {
          "output_type": "stream",
          "name": "stdout",
          "text": [
            "[[ 1 -1 -1 -1 -1 -1 -1 -1 -1 -1]\n",
            " [-1  1 -1 -1 -1 -1 -1 -1 -1 -1]\n",
            " [-1  1  1 -1 -1 -1 -1 -1 -1 -1]\n",
            " [-1 -1 -1  1 -1 -1 -1 -1 -1 -1]\n",
            " [-1 -1 -1 -1  1 -1 -1 -1 -1 -1]\n",
            " [-1 -1 -1 -1 -1  1 -1  1 -1 -1]\n",
            " [-1 -1 -1 -1 -1 -1 -1 -1 -1 -1]\n",
            " [ 1 -1 -1 -1 -1 -1 -1  1 -1 -1]\n",
            " [-1 -1 -1 -1 -1 -1 -1 -1  1 -1]\n",
            " [-1 -1 -1 -1 -1 -1 -1 -1 -1 -1]]\n",
            "5\n"
          ]
        },
        {
          "output_type": "display_data",
          "data": {
            "text/plain": [
              "<Figure size 640x480 with 10 Axes>"
            ],
            "image/png": "[encoded data removed]"
          },
          "metadata": {}
        },
        {
          "output_type": "stream",
          "name": "stdout",
          "text": [
            "[[ 1 -1 -1 -1 -1 -1 -1 -1 -1 -1]\n",
            " [-1  1 -1 -1 -1 -1 -1 -1 -1 -1]\n",
            " [-1  1  1 -1 -1 -1 -1 -1 -1 -1]\n",
            " [-1 -1 -1  1  1 -1 -1 -1 -1 -1]\n",
            " [-1 -1 -1 -1  1 -1 -1 -1 -1 -1]\n",
            " [-1 -1 -1 -1 -1  1 -1 -1 -1 -1]\n",
            " [-1 -1 -1 -1 -1 -1 -1 -1 -1 -1]\n",
            " [ 1 -1 -1 -1 -1 -1 -1  1 -1 -1]\n",
            " [-1 -1 -1 -1 -1 -1 -1 -1 -1 -1]\n",
            " [-1  1 -1 -1  1 -1 -1 -1 -1  1]]\n",
            "7\n"
          ]
        },
        {
          "output_type": "display_data",
          "data": {
            "text/plain": [
              "<Figure size 640x480 with 10 Axes>"
            ],
            "image/png": "[encoded data removed]"
          },
          "metadata": {}
        },
        {
          "output_type": "stream",
          "name": "stdout",
          "text": [
            "[[ 1  1  1 -1  1 -1 -1 -1 -1 -1]\n",
            " [ 1 -1 -1 -1 -1 -1 -1 -1 -1 -1]\n",
            " [-1  1  1 -1  1 -1 -1 -1 -1 -1]\n",
            " [-1 -1 -1  1  1  1  1  1  1  1]\n",
            " [-1  1 -1  1  1  1 -1 -1 -1  1]\n",
            " [-1  1 -1 -1 -1 -1 -1  1 -1 -1]\n",
            " [-1  1  1 -1 -1 -1 -1 -1 -1 -1]\n",
            " [ 1 -1 -1 -1 -1 -1 -1  1 -1 -1]\n",
            " [ 1 -1 -1 -1 -1 -1 -1 -1 -1  1]\n",
            " [-1 -1 -1 -1  1  1  1 -1  1  1]]\n",
            "31\n"
          ]
        }
      ]
    }
  ]
}